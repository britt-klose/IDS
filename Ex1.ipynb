{
  "nbformat": 4,
  "nbformat_minor": 0,
  "metadata": {
    "colab": {
      "provenance": [],
      "authorship_tag": "ABX9TyN+UlGi8dDH+4Yk50B+97Qm",
      "include_colab_link": true
    },
    "kernelspec": {
      "name": "python3",
      "display_name": "Python 3"
    },
    "language_info": {
      "name": "python"
    }
  },
  "cells": [
    {
      "cell_type": "markdown",
      "metadata": {
        "id": "view-in-github",
        "colab_type": "text"
      },
      "source": [
        "<a href=\"https://colab.research.google.com/github/britt-klose/IDS/blob/main/Ex1.ipynb\" target=\"_parent\"><img src=\"https://colab.research.google.com/assets/colab-badge.svg\" alt=\"Open In Colab\"/></a>"
      ]
    },
    {
      "cell_type": "code",
      "execution_count": null,
      "metadata": {
        "id": "hOeULGrZIMiD"
      },
      "outputs": [],
      "source": []
    },
    {
      "cell_type": "markdown",
      "source": [
        "### this is a text cell**"
      ],
      "metadata": {
        "id": "QvNfJ3jwIWPP"
      }
    },
    {
      "cell_type": "code",
      "source": [
        "import numpy as np  # make numpy available using np"
      ],
      "metadata": {
        "id": "JmM_TF1lIb67"
      },
      "execution_count": 1,
      "outputs": []
    },
    {
      "cell_type": "code",
      "source": [
        "print (\"\\nShowing some basic math on arrays\")\n",
        "b = np.array([0, 1, 4, 3, 2])\n",
        "\n",
        "print (\"Max: {}\" .format(np.max(b)))\n",
        "print (\"Average: {}\" .format(np.average(b)))\n",
        "print (\"Max index: {}\" .format(np.argmax(b)))"
      ],
      "metadata": {
        "colab": {
          "base_uri": "https://localhost:8080/"
        },
        "id": "4bYYuo3FIv3S",
        "outputId": "14b3b121-d989-458f-d237-0e8778c46015"
      },
      "execution_count": 6,
      "outputs": [
        {
          "output_type": "stream",
          "name": "stdout",
          "text": [
            "\n",
            "Showing some basic math on arrays\n",
            "Max: 4\n",
            "Average: 2.0\n",
            "Max index: 2\n"
          ]
        }
      ]
    }
  ]
}